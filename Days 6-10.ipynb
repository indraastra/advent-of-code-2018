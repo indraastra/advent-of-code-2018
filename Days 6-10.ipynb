{
 "cells": [
  {
   "cell_type": "markdown",
   "metadata": {},
   "source": [
    "# December 2018: Advent of Code"
   ]
  },
  {
   "cell_type": "markdown",
   "metadata": {},
   "source": [
    "## Days 6-10"
   ]
  },
  {
   "cell_type": "markdown",
   "metadata": {},
   "source": [
    "### Common imports & library functions"
   ]
  },
  {
   "cell_type": "code",
   "execution_count": 31,
   "metadata": {},
   "outputs": [],
   "source": [
    "from collections import Counter, defaultdict, namedtuple\n",
    "import doctest\n",
    "import heapq\n",
    "import itertools\n",
    "import math\n",
    "import numpy as np\n",
    "import re\n",
    "import string"
   ]
  },
  {
   "cell_type": "markdown",
   "metadata": {},
   "source": [
    "### Day 1: Chronal Coordinates"
   ]
  },
  {
   "cell_type": "code",
   "execution_count": 132,
   "metadata": {},
   "outputs": [],
   "source": [
    "def manhattan_distance(p1, p2):\n",
    "    \"\"\"\n",
    "    >>> manhattan_distance((1, -1), (8, 3))\n",
    "    11\n",
    "    \"\"\"\n",
    "    a1, a2 = p1\n",
    "    b1, b2 = p2\n",
    "    return abs(a1 - b1) + abs(a2 - b2)\n",
    "\n",
    "def grid_corner(coords_np):\n",
    "    return tuple(coords_np.max(axis=0))\n",
    "\n",
    "def parse_coordinates(coords):\n",
    "    coords_np = []\n",
    "    for coords_txt in coords:\n",
    "        x, y = coords_txt.split(',')\n",
    "        x = int(x)\n",
    "        y = int(y)\n",
    "        coords_np.append((x, y))\n",
    "    return np.array(coords_np)\n",
    "\n",
    "def print_grid(grid):\n",
    "    for row in grid:\n",
    "        print(''.join(row))\n",
    "\n",
    "PLACEHOLDER = '.'\n",
    "def make_grid(corner):\n",
    "    grid = []\n",
    "    for y in range(corner[1] + 1):\n",
    "        grid.append([PLACEHOLDER] * (corner[0] + 1))\n",
    "    return grid\n",
    "        \n",
    "def assign_targets(grid, targets):\n",
    "    for i, coord in enumerate(targets):\n",
    "        grid[coord[1]][coord[0]] = string.ascii_uppercase[i]\n",
    "\n",
    "def find_closest_target(grid, targets, coord):\n",
    "    cell = grid[coord[1]][coord[0]]\n",
    "    min_distance = float('inf')\n",
    "    nearest_target = None\n",
    "    nearest_count = 0\n",
    "    for i, target in enumerate(targets):\n",
    "        distance = manhattan_distance(coord, target)\n",
    "        if distance == min_distance:\n",
    "            nearest_count += 1\n",
    "        elif distance < min_distance:\n",
    "            min_distance = distance\n",
    "            nearest_target = i\n",
    "            nearest_count = 1\n",
    "    return nearest_target if nearest_count == 1 else None \n",
    "    \n",
    "def assign_all_closest_target(grid, targets):\n",
    "    coords_by_target = defaultdict(list)\n",
    "    for y in range(len(grid)):\n",
    "        for x in range(len(grid[0])):\n",
    "            target = find_closest_target(grid, targets, (x, y))\n",
    "            if target is not None:\n",
    "#                 if grid[y][x] == PLACEHOLDER:\n",
    "#                     grid[y][x] = string.ascii_lowercase[target]\n",
    "                coords_by_target[target].append((x, y)) \n",
    "    return coords_by_target\n",
    "                \n",
    "def has_edge_coord(grid, coords):\n",
    "    for (x, y) in coords:\n",
    "        if x == 0 or y == 0 or x == len(grid[0]) or y == len(grid):\n",
    "            return True\n",
    "    return False\n",
    "\n",
    "def largest_area(grid, targets):\n",
    "    coords_by_target = assign_all_closest_target(grid, targets)\n",
    "    max_area = 0\n",
    "    for target, coords in coords_by_target.items():\n",
    "        if has_edge_coord(grid, coords):\n",
    "            continue\n",
    "        elif len(coords) > max_area:\n",
    "            max_area = len(coords)\n",
    "    return max_area\n",
    "\n",
    "def largest_area_within_distance(grid, targets, distance):\n",
    "    coords = [(x, y) for y in range(len(grid)) for x in range(len(grid[0]))]\n",
    "    return len([c for c in coords if sum(manhattan_distance(c, t) for t in targets) < distance])"
   ]
  },
  {
   "cell_type": "code",
   "execution_count": 133,
   "metadata": {},
   "outputs": [
    {
     "data": {
      "text/plain": [
       "TestResults(failed=0, attempted=1)"
      ]
     },
     "execution_count": 133,
     "metadata": {},
     "output_type": "execute_result"
    }
   ],
   "source": [
    "# Run unit tests\n",
    "doctest.testmod()"
   ]
  },
  {
   "cell_type": "code",
   "execution_count": null,
   "metadata": {},
   "outputs": [],
   "source": [
    "# Final answers\n",
    "with open('day6_input.txt') as f:\n",
    "    targets = parse_coordinates(f.read().strip().split('\\n'))\n",
    "    grid = make_grid(grid_corner(targets))\n",
    "    print('Part 1: ', largest_area(grid, targets))\n",
    "    print('Part 2: ', largest_area_within_distance(grid, targets, 10000))"
   ]
  },
  {
   "cell_type": "code",
   "execution_count": null,
   "metadata": {},
   "outputs": [],
   "source": []
  }
 ],
 "metadata": {
  "kernelspec": {
   "display_name": "Python 3",
   "language": "python",
   "name": "python3"
  },
  "language_info": {
   "codemirror_mode": {
    "name": "ipython",
    "version": 3
   },
   "file_extension": ".py",
   "mimetype": "text/x-python",
   "name": "python",
   "nbconvert_exporter": "python",
   "pygments_lexer": "ipython3",
   "version": "3.6.7"
  }
 },
 "nbformat": 4,
 "nbformat_minor": 2
}
