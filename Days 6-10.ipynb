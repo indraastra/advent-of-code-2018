{
 "cells": [
  {
   "cell_type": "markdown",
   "metadata": {},
   "source": [
    "# December 2018: Advent of Code"
   ]
  },
  {
   "cell_type": "markdown",
   "metadata": {},
   "source": [
    "## Days 6-10"
   ]
  },
  {
   "cell_type": "markdown",
   "metadata": {},
   "source": [
    "### Common imports & library functions"
   ]
  },
  {
   "cell_type": "code",
   "execution_count": 136,
   "metadata": {},
   "outputs": [],
   "source": [
    "from collections import Counter, defaultdict, namedtuple\n",
    "import doctest\n",
    "import heapq\n",
    "import itertools\n",
    "import math\n",
    "import numpy as np\n",
    "import re\n",
    "import string"
   ]
  },
  {
   "cell_type": "markdown",
   "metadata": {},
   "source": [
    "### Day 6: Chronal Coordinates"
   ]
  },
  {
   "cell_type": "code",
   "execution_count": 132,
   "metadata": {},
   "outputs": [],
   "source": [
    "def manhattan_distance(p1, p2):\n",
    "    \"\"\"\n",
    "    >>> manhattan_distance((1, -1), (8, 3))\n",
    "    11\n",
    "    \"\"\"\n",
    "    a1, a2 = p1\n",
    "    b1, b2 = p2\n",
    "    return abs(a1 - b1) + abs(a2 - b2)\n",
    "\n",
    "def grid_corner(coords_np):\n",
    "    return tuple(coords_np.max(axis=0))\n",
    "\n",
    "def parse_coordinates(coords):\n",
    "    coords_np = []\n",
    "    for coords_txt in coords:\n",
    "        x, y = coords_txt.split(',')\n",
    "        x = int(x)\n",
    "        y = int(y)\n",
    "        coords_np.append((x, y))\n",
    "    return np.array(coords_np)\n",
    "\n",
    "def print_grid(grid):\n",
    "    for row in grid:\n",
    "        print(''.join(row))\n",
    "\n",
    "PLACEHOLDER = '.'\n",
    "def make_grid(corner):\n",
    "    grid = []\n",
    "    for y in range(corner[1] + 1):\n",
    "        grid.append([PLACEHOLDER] * (corner[0] + 1))\n",
    "    return grid\n",
    "        \n",
    "def assign_targets(grid, targets):\n",
    "    for i, coord in enumerate(targets):\n",
    "        grid[coord[1]][coord[0]] = string.ascii_uppercase[i]\n",
    "\n",
    "def find_closest_target(grid, targets, coord):\n",
    "    cell = grid[coord[1]][coord[0]]\n",
    "    min_distance = float('inf')\n",
    "    nearest_target = None\n",
    "    nearest_count = 0\n",
    "    for i, target in enumerate(targets):\n",
    "        distance = manhattan_distance(coord, target)\n",
    "        if distance == min_distance:\n",
    "            nearest_count += 1\n",
    "        elif distance < min_distance:\n",
    "            min_distance = distance\n",
    "            nearest_target = i\n",
    "            nearest_count = 1\n",
    "    return nearest_target if nearest_count == 1 else None \n",
    "    \n",
    "def assign_all_closest_target(grid, targets):\n",
    "    coords_by_target = defaultdict(list)\n",
    "    for y in range(len(grid)):\n",
    "        for x in range(len(grid[0])):\n",
    "            target = find_closest_target(grid, targets, (x, y))\n",
    "            if target is not None:\n",
    "#                 if grid[y][x] == PLACEHOLDER:\n",
    "#                     grid[y][x] = string.ascii_lowercase[target]\n",
    "                coords_by_target[target].append((x, y)) \n",
    "    return coords_by_target\n",
    "                \n",
    "def has_edge_coord(grid, coords):\n",
    "    for (x, y) in coords:\n",
    "        if x == 0 or y == 0 or x == len(grid[0]) or y == len(grid):\n",
    "            return True\n",
    "    return False\n",
    "\n",
    "def largest_area(grid, targets):\n",
    "    coords_by_target = assign_all_closest_target(grid, targets)\n",
    "    max_area = 0\n",
    "    for target, coords in coords_by_target.items():\n",
    "        if has_edge_coord(grid, coords):\n",
    "            continue\n",
    "        elif len(coords) > max_area:\n",
    "            max_area = len(coords)\n",
    "    return max_area\n",
    "\n",
    "def largest_area_within_distance(grid, targets, distance):\n",
    "    coords = [(x, y) for y in range(len(grid)) for x in range(len(grid[0]))]\n",
    "    return len([c for c in coords if sum(manhattan_distance(c, t) for t in targets) < distance])"
   ]
  },
  {
   "cell_type": "code",
   "execution_count": 133,
   "metadata": {},
   "outputs": [
    {
     "data": {
      "text/plain": [
       "TestResults(failed=0, attempted=1)"
      ]
     },
     "execution_count": 133,
     "metadata": {},
     "output_type": "execute_result"
    }
   ],
   "source": [
    "# Run unit tests\n",
    "doctest.testmod()"
   ]
  },
  {
   "cell_type": "code",
   "execution_count": 135,
   "metadata": {
    "scrolled": true
   },
   "outputs": [
    {
     "name": "stdout",
     "output_type": "stream",
     "text": [
      "Part 1:  4143\n",
      "Part 2:  35039\n"
     ]
    }
   ],
   "source": [
    "# Final answers\n",
    "with open('day6_input.txt') as f:\n",
    "    targets = parse_coordinates(f.read().strip().split('\\n'))\n",
    "    grid = make_grid(grid_corner(targets))\n",
    "    print('Part 1: ', largest_area(grid, targets))\n",
    "    print('Part 2: ', largest_area_within_distance(grid, targets, 10000))"
   ]
  },
  {
   "cell_type": "markdown",
   "metadata": {},
   "source": [
    "### Day 7: The Sum of Its Parts"
   ]
  },
  {
   "cell_type": "code",
   "execution_count": 317,
   "metadata": {},
   "outputs": [],
   "source": [
    "class DependencyGraph:\n",
    "    \"\"\"\n",
    "    >>> a = DependencyGraph()\n",
    "    >>> a.add_dependency('A', 'C')\n",
    "    >>> a.add_dependency('F', 'C')\n",
    "    >>> a.add_dependency('B', 'A')\n",
    "    >>> a.add_dependency('D', 'A')\n",
    "    >>> a.add_dependency('E', 'B')\n",
    "    >>> a.add_dependency('E', 'D')\n",
    "    >>> a.add_dependency('E', 'F')\n",
    "    >>> ''.join(a.pop_satisfied() for _ in range(6))\n",
    "    'CABDFE'\n",
    "    \"\"\"\n",
    "    def __init__(self):\n",
    "        self.depends_on = defaultdict(set)\n",
    "        self.depended_on_by = defaultdict(set)\n",
    "        self.satisfied = set()\n",
    "        \n",
    "    def add_dependency(self, node, depends_on_node):\n",
    "        self.depends_on[node].add(depends_on_node)\n",
    "        self.depended_on_by[depends_on_node].add(node)\n",
    "        if node in self.satisfied:\n",
    "            self.satisfied.remove(node)\n",
    "        if depends_on_node not in self.depends_on:\n",
    "            self.satisfied.add(depends_on_node)\n",
    "            \n",
    "    def remove_dependency(self, node, depends_on_node):\n",
    "        self.depends_on[node].discard(depends_on_node)\n",
    "        self.depended_on_by[depends_on_node].discard(node)        \n",
    "        if not self.depends_on[node]:\n",
    "            self.satisfied.add(node)\n",
    "\n",
    "    def has_satisfied(self):\n",
    "        return len(self.satisfied)\n",
    "            \n",
    "    def get_satisfied(self):\n",
    "        return sorted(self.satisfied)\n",
    "    \n",
    "    def pop_satisfied(self, node=None):\n",
    "        node = node or self.get_satisfied()[0]\n",
    "        self.satisfied.discard(node)\n",
    "        for other_node in list(self.depended_on_by[node]):\n",
    "            self.remove_dependency(other_node, node)\n",
    "        return node\n",
    "    \n",
    "    \n",
    "class DeferredWork:\n",
    "    def __init__(self, on_complete, completion_time):\n",
    "        self.time_left = completion_time\n",
    "        self.on_complete = on_complete\n",
    "        self.on_complete_called = False\n",
    "        \n",
    "    def __repr__(self):\n",
    "        return 'DeferredWork({}, {})'.format(self.on_complete.__name__, self.time_left)\n",
    "\n",
    "    def work_on(self, duration=1):\n",
    "        self.time_left = max(self.time_left - duration, 0)\n",
    "        if self.is_complete() and not self.on_complete_called:\n",
    "            self.on_complete_called = True\n",
    "            self.on_complete()\n",
    "        return self\n",
    "\n",
    "    def is_complete(self):\n",
    "        return self.time_left == 0\n",
    "        \n",
    "class TimedDependencyGraph(DependencyGraph):\n",
    "    def __init__(self, timer_fn):\n",
    "        super(TimedDependencyGraph, self).__init__()\n",
    "        self.deferred_satisfied = set()\n",
    "        self.timer_fn = timer_fn\n",
    "        \n",
    "    def timed_has_satisfied(self):\n",
    "        return len(self.satisfied - self.deferred_satisfied)\n",
    "        \n",
    "    def timed_get_satisfied(self):\n",
    "        return sorted(self.satisfied - self.deferred_satisfied)\n",
    "        \n",
    "    def timed_pop_satisfied(self):\n",
    "        node = self.timed_get_satisfied()[0]\n",
    "        self.deferred_satisfied.add(node)\n",
    "        return DeferredWork(lambda: self.pop_satisfied(node), self.timer_fn(node))\n",
    "\n",
    "def parse_dependency(sentence):\n",
    "    \"\"\"\n",
    "    >>> parse_dependency('Step C must be finished before step A can begin.')\n",
    "    ('A', 'C')\n",
    "    \"\"\"\n",
    "    depends_on, node = re.match(r'Step (\\w) must be finished before step (\\w) can begin.', \n",
    "                                sentence).groups()\n",
    "    return (node, depends_on)\n",
    "\n",
    "def build_dependency_graph(dependencies, timer_fn=None):\n",
    "    if timer_fn:\n",
    "        graph = TimedDependencyGraph(timer_fn)\n",
    "    else:\n",
    "        graph = DependencyGraph()\n",
    "    for (node, depends_on) in dependencies:\n",
    "        graph.add_dependency(node, depends_on)\n",
    "    return graph\n",
    "\n",
    "def correct_instruction_order(dependencies):\n",
    "    graph = build_dependency_graph(dependencies)\n",
    "    order = []\n",
    "    while graph.has_satisfied():\n",
    "        order.append(graph.pop_satisfied())\n",
    "    return ''.join(order) \n",
    "\n",
    "def name_based_timer(base_duration, node):\n",
    "    \"\"\"\n",
    "    >>> name_based_timer(60, 'A')\n",
    "    61\n",
    "    >>> name_based_timer(30, 'Z')\n",
    "    56\n",
    "    \"\"\"\n",
    "    return base_duration + ord(node.lower()) - ord('a') + 1\n",
    "\n",
    "def time_to_complete(dependencies, workers=5, base_duration=60, debug=False):\n",
    "    graph = build_dependency_graph(dependencies, \n",
    "                                   timer_fn=lambda n: name_based_timer(base_duration, n))\n",
    "    tasks = []\n",
    "    time = 0\n",
    "    while graph.has_satisfied():\n",
    "        if debug: print('Satisfied:', graph.satisfied)\n",
    "        if len(tasks) < workers:\n",
    "            to_assign = min(workers - len(tasks), graph.timed_has_satisfied())\n",
    "            # Assign more tasks.\n",
    "            if debug: print('\\tAssigning {} more tasks!'.format(to_assign))\n",
    "            tasks.extend(graph.timed_pop_satisfied() for _ in range(to_assign))\n",
    "            if debug: print('\\tCurrent tasks: {}'.format(tasks))\n",
    "        step = min(task.time_left for task in tasks)\n",
    "        tasks = [task for task in tasks if not task.work_on(step).is_complete()]\n",
    "        time += step\n",
    "        if debug: print('\\tAdvancing to time', time)\n",
    "    return time"
   ]
  },
  {
   "cell_type": "code",
   "execution_count": 321,
   "metadata": {},
   "outputs": [
    {
     "name": "stdout",
     "output_type": "stream",
     "text": [
      "Satisfied: {'C'}\n",
      "\tAssigning 1 more tasks!\n",
      "\tCurrent tasks: [DeferredWork(<lambda>, 3)]\n",
      "\tAdvancing to time 3\n",
      "Satisfied: {'A', 'F'}\n",
      "\tAssigning 2 more tasks!\n",
      "\tCurrent tasks: [DeferredWork(<lambda>, 1), DeferredWork(<lambda>, 6)]\n",
      "\tAdvancing to time 4\n",
      "Satisfied: {'D', 'F', 'B'}\n",
      "\tAssigning 2 more tasks!\n",
      "\tCurrent tasks: [DeferredWork(<lambda>, 5), DeferredWork(<lambda>, 2), DeferredWork(<lambda>, 4)]\n",
      "\tAdvancing to time 6\n",
      "Satisfied: {'D', 'F'}\n",
      "\tAssigning 0 more tasks!\n",
      "\tCurrent tasks: [DeferredWork(<lambda>, 3), DeferredWork(<lambda>, 2)]\n",
      "\tAdvancing to time 8\n",
      "Satisfied: {'F'}\n",
      "\tAssigning 0 more tasks!\n",
      "\tCurrent tasks: [DeferredWork(<lambda>, 1)]\n",
      "\tAdvancing to time 9\n",
      "Satisfied: {'E'}\n",
      "\tAssigning 1 more tasks!\n",
      "\tCurrent tasks: [DeferredWork(<lambda>, 5)]\n",
      "\tAdvancing to time 14\n"
     ]
    }
   ],
   "source": [
    "instructions = \"\"\"Step C must be finished before step A can begin.\n",
    "Step C must be finished before step F can begin.\n",
    "Step A must be finished before step B can begin.\n",
    "Step A must be finished before step D can begin.\n",
    "Step B must be finished before step E can begin.\n",
    "Step D must be finished before step E can begin.\n",
    "Step F must be finished before step E can begin.\"\"\"\n",
    "dependencies = [parse_dependency(l) for l in instructions.splitlines()]\n",
    "assert time_to_complete(dependencies, base_duration=0, debug=True) == 14"
   ]
  },
  {
   "cell_type": "code",
   "execution_count": 263,
   "metadata": {},
   "outputs": [
    {
     "data": {
      "text/plain": [
       "TestResults(failed=0, attempted=13)"
      ]
     },
     "execution_count": 263,
     "metadata": {},
     "output_type": "execute_result"
    }
   ],
   "source": [
    "# Run unit tests\n",
    "doctest.testmod()"
   ]
  },
  {
   "cell_type": "code",
   "execution_count": 320,
   "metadata": {
    "scrolled": true
   },
   "outputs": [
    {
     "name": "stdout",
     "output_type": "stream",
     "text": [
      "Part 1:  OKBNLPHCSVWAIRDGUZEFMXYTJQ\n",
      "Part 2:  982\n"
     ]
    }
   ],
   "source": [
    "# Final answers\n",
    "with open('day7_input.txt') as instructions:\n",
    "    dependencies = [parse_dependency(l) for l in instructions]\n",
    "    print('Part 1: ', correct_instruction_order(dependencies))\n",
    "    print('Part 2: ', time_to_complete(dependencies))"
   ]
  },
  {
   "cell_type": "code",
   "execution_count": null,
   "metadata": {},
   "outputs": [],
   "source": []
  }
 ],
 "metadata": {
  "kernelspec": {
   "display_name": "Python 3",
   "language": "python",
   "name": "python3"
  },
  "language_info": {
   "codemirror_mode": {
    "name": "ipython",
    "version": 3
   },
   "file_extension": ".py",
   "mimetype": "text/x-python",
   "name": "python",
   "nbconvert_exporter": "python",
   "pygments_lexer": "ipython3",
   "version": "3.6.7"
  }
 },
 "nbformat": 4,
 "nbformat_minor": 2
}
