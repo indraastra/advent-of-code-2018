{
 "cells": [
  {
   "cell_type": "markdown",
   "metadata": {},
   "source": [
    "# December 2018: Advent of Code"
   ]
  },
  {
   "cell_type": "markdown",
   "metadata": {},
   "source": [
    "## Days 1-5"
   ]
  },
  {
   "cell_type": "markdown",
   "metadata": {},
   "source": [
    "### Common imports & library functions"
   ]
  },
  {
   "cell_type": "code",
   "execution_count": 3,
   "metadata": {},
   "outputs": [],
   "source": [
    "from collections import Counter, defaultdict, namedtuple\n",
    "import doctest\n",
    "import heapq\n",
    "import itertools\n",
    "import math\n",
    "import numpy as np\n",
    "import re"
   ]
  },
  {
   "cell_type": "markdown",
   "metadata": {},
   "source": [
    "### Day 1: Chronal Calibration"
   ]
  },
  {
   "cell_type": "code",
   "execution_count": 43,
   "metadata": {},
   "outputs": [],
   "source": [
    "def resulting_frequency(changes):\n",
    "    \"\"\"\n",
    "    >>> resulting_frequency([+1, -2, +3, +1])\n",
    "    3\n",
    "    >>> resulting_frequency([+1, +1, +1])\n",
    "    3\n",
    "    >>> resulting_frequency([-1, -1, 2])\n",
    "    0\n",
    "    >>> resulting_frequency([-1, -2, -3])\n",
    "    -6\n",
    "    \"\"\"\n",
    "    return sum(changes)\n",
    "\n",
    "def accumulate(stream):\n",
    "    \"\"\"\n",
    "    Yields accumulated sums of elements of the input stream as an output stream. \n",
    "    The nth element of the stream is the sum of the first n elements of the input\n",
    "    stream.\n",
    "    \n",
    "    >>> list(accumulate([0, 0, 0]))\n",
    "    [0, 0, 0]\n",
    "    >>> list(accumulate([1, 2, 3]))\n",
    "    [1, 3, 6]\n",
    "    >>> list(accumulate([-1, -2, 3]))\n",
    "    [-1, -3, 0]\n",
    "    \"\"\"\n",
    "    sum = 0\n",
    "    for c in stream:\n",
    "        sum += c\n",
    "        yield sum\n",
    "\n",
    "def repeated_frequency(changes):\n",
    "    \"\"\"\n",
    "    >>> repeated_frequency([+1, -1])\n",
    "    0\n",
    "    >>> repeated_frequency([+3, +3, +4, -2, -4])\n",
    "    10\n",
    "    >>> repeated_frequency([-6, +3, +8, +5, -6])\n",
    "    5\n",
    "    >>> repeated_frequency([+7, +7, -2, -7, -4])\n",
    "    14\n",
    "    \"\"\"\n",
    "    seen = {0}\n",
    "    for freq in accumulate(itertools.cycle(changes)):\n",
    "        if freq in seen:\n",
    "            return freq\n",
    "        seen.add(freq)"
   ]
  },
  {
   "cell_type": "code",
   "execution_count": 44,
   "metadata": {},
   "outputs": [
    {
     "data": {
      "text/plain": [
       "TestResults(failed=0, attempted=11)"
      ]
     },
     "execution_count": 44,
     "metadata": {},
     "output_type": "execute_result"
    }
   ],
   "source": [
    "# Run unit tests\n",
    "doctest.testmod()"
   ]
  },
  {
   "cell_type": "code",
   "execution_count": 45,
   "metadata": {},
   "outputs": [
    {
     "name": "stdout",
     "output_type": "stream",
     "text": [
      "Part 1:  470\n",
      "Part 2:  790\n"
     ]
    }
   ],
   "source": [
    "# Final answers\n",
    "with open('day1_input.txt') as f:\n",
    "    changes = [int(l.strip()) for l in f]\n",
    "    print('Part 1: ', resulting_frequency(changes))\n",
    "    print('Part 2: ', repeated_frequency(changes))"
   ]
  },
  {
   "cell_type": "markdown",
   "metadata": {},
   "source": [
    "### Day 2: Inventory Management System"
   ]
  },
  {
   "cell_type": "code",
   "execution_count": 36,
   "metadata": {},
   "outputs": [],
   "source": [
    "def check_counts(box_id):\n",
    "    \"\"\"\n",
    "    >>> check_counts('abcdef')\n",
    "    (0, 0)\n",
    "    >>> check_counts('bababc')\n",
    "    (1, 1)\n",
    "    >>> check_counts('aabcdd')\n",
    "    (1, 0)\n",
    "    \"\"\"\n",
    "    checks = Counter(Counter(box_id).values())\n",
    "    return (1 if 2 in checks else 0, \n",
    "            1 if 3 in checks else 0)\n",
    "\n",
    "def checksum_box_ids(box_ids):\n",
    "    \"\"\"\n",
    "    >>> checksum_box_ids(['abcdef', 'bababc', 'abbcde', 'abcccd', 'aabcdd', 'abcdee', 'ababab'])\n",
    "    12\n",
    "    \"\"\"\n",
    "    twos, threes = np.sum([check_counts(id) for id in box_ids], axis=0)\n",
    "    return twos * threes\n",
    "\n",
    "def intersection(s, t):\n",
    "    \"\"\"\n",
    "    >>> intersection('abcde', 'fghij')\n",
    "    ''\n",
    "    >>> intersection('fguij', 'fghij')\n",
    "    'fgij'\n",
    "    >>> intersection('abcde', 'abcde')\n",
    "    'abcde'\n",
    "    \"\"\"\n",
    "    return ''.join(s[i] for i in range(len(s)) if s[i] == t[i])\n",
    "\n",
    "def correct_box_ids(box_ids):\n",
    "    \"\"\"\n",
    "    >>> correct_box_ids(['abcde', 'fghij', 'klmno', 'pqrst', 'fguij', 'axcye', 'wvxyz'])\n",
    "    'fgij'\n",
    "    \"\"\"\n",
    "    box_ids = sorted(set(box_ids))\n",
    "    for (i, j) in itertools.product(box_ids, box_ids):\n",
    "        if i == j: continue\n",
    "        solution = intersection(i, j)\n",
    "        if len(solution) == len(i) - 1:\n",
    "            return solution"
   ]
  },
  {
   "cell_type": "code",
   "execution_count": 37,
   "metadata": {},
   "outputs": [
    {
     "data": {
      "text/plain": [
       "TestResults(failed=0, attempted=8)"
      ]
     },
     "execution_count": 37,
     "metadata": {},
     "output_type": "execute_result"
    }
   ],
   "source": [
    "# Run unit tests\n",
    "doctest.testmod()"
   ]
  },
  {
   "cell_type": "code",
   "execution_count": 40,
   "metadata": {
    "scrolled": true
   },
   "outputs": [
    {
     "name": "stdout",
     "output_type": "stream",
     "text": [
      "Part 1:  6422\n",
      "Part 2:  qcslyvphgkrmdawljuefotxbh\n"
     ]
    }
   ],
   "source": [
    "# Final answers\n",
    "with open('day2_input.txt') as f:\n",
    "    box_ids = [l.strip() for l in f]\n",
    "    print('Part 1: ', checksum_box_ids(box_ids))\n",
    "    print('Part 2: ', correct_box_ids(box_ids))"
   ]
  },
  {
   "cell_type": "markdown",
   "metadata": {},
   "source": [
    "### Day 3: No Matter How You Slice It"
   ]
  },
  {
   "cell_type": "code",
   "execution_count": 36,
   "metadata": {},
   "outputs": [],
   "source": [
    "Claim = namedtuple('Claim', ['id', 'l', 't', 'w', 'h'])\n",
    "\n",
    "def create_fabric(w, h):\n",
    "    return np.zeros((h, w), dtype=np.int)\n",
    "\n",
    "def apply_claim(fabric, claim):\n",
    "    fabric[claim.t:claim.t+claim.h, \n",
    "           claim.l:claim.l+claim.w] += 1\n",
    "\n",
    "def apply_claims(fabric, claims):\n",
    "    for claim in claims:\n",
    "        apply_claim(fabric, claim)\n",
    "    \n",
    "def claims_in_region(fabric, r):\n",
    "    return (fabric[r.t:r.t+r.h, r.l:r.l+r.w]).max()\n",
    "\n",
    "def parse_claim(claim_id):\n",
    "    \"\"\"\n",
    "    >>> parse_claim('#1 @ 912,277: 27x20')\n",
    "    Claim(id=1, l=912, t=277, w=27, h=20)\n",
    "    \"\"\"\n",
    "    components = [int(c) for c in re.findall('(\\d+)', claim_id)]\n",
    "    return Claim(*components)\n",
    "\n",
    "def overlapping_claim_area(fabric, claims):\n",
    "    \"\"\"\n",
    "    >>> fabric = create_fabric(8, 8)\n",
    "    >>> claims = [Claim(1, 1, 3, 4, 4), Claim(2, 3, 1, 4, 4), Claim(3, 5, 5, 2, 2)]\n",
    "    >>> apply_claims(fabric, claims)\n",
    "    >>> overlapping_claim_area(fabric, claims)\n",
    "    4\n",
    "    \"\"\"\n",
    "    return (fabric > 1).sum()\n",
    "\n",
    "def find_nonoverlapping_claim(fabric, claims):\n",
    "    \"\"\"\n",
    "    >>> fabric = create_fabric(8, 8)\n",
    "    >>> claims = [Claim(1, 1, 3, 4, 4), Claim(2, 3, 1, 4, 4), Claim(3, 5, 5, 2, 2)]\n",
    "    >>> apply_claims(fabric, claims)\n",
    "    >>> find_nonoverlapping_claim(fabric, claims)\n",
    "    Claim(id=3, l=5, t=5, w=2, h=2)\n",
    "    \"\"\"\n",
    "    for claim in claims:\n",
    "        if claims_in_region(fabric, claim) == 1:\n",
    "            return claim"
   ]
  },
  {
   "cell_type": "code",
   "execution_count": 37,
   "metadata": {},
   "outputs": [
    {
     "data": {
      "text/plain": [
       "TestResults(failed=0, attempted=9)"
      ]
     },
     "execution_count": 37,
     "metadata": {},
     "output_type": "execute_result"
    }
   ],
   "source": [
    "# Run unit tests\n",
    "doctest.testmod()"
   ]
  },
  {
   "cell_type": "code",
   "execution_count": 38,
   "metadata": {
    "scrolled": true
   },
   "outputs": [
    {
     "name": "stdout",
     "output_type": "stream",
     "text": [
      "Part 1:  110891\n",
      "Part 2:  Claim(id=297, l=622, t=641, w=11, h=24)\n"
     ]
    }
   ],
   "source": [
    "# Final answers\n",
    "with open('day3_input.txt') as f:\n",
    "    fabric = create_fabric(1000, 1000)\n",
    "    claims = [parse_claim(l.strip()) for l in f]\n",
    "    apply_claims(fabric, claims)\n",
    "    print('Part 1: ', overlapping_claim_area(fabric, claims))\n",
    "    print('Part 2: ', find_nonoverlapping_claim(fabric, claims))"
   ]
  }
 ],
 "metadata": {
  "kernelspec": {
   "display_name": "Python 3",
   "language": "python",
   "name": "python3"
  }
 },
 "nbformat": 4,
 "nbformat_minor": 2
}
