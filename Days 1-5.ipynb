{
 "cells": [
  {
   "cell_type": "markdown",
   "metadata": {},
   "source": [
    "# December 2018: Advent of Code"
   ]
  },
  {
   "cell_type": "markdown",
   "metadata": {},
   "source": [
    "## Days 1-5"
   ]
  },
  {
   "cell_type": "markdown",
   "metadata": {},
   "source": [
    "### Common imports & library functions"
   ]
  },
  {
   "cell_type": "code",
   "execution_count": 1,
   "metadata": {},
   "outputs": [],
   "source": [
    "from collections import Counter, defaultdict, namedtuple\n",
    "import doctest\n",
    "import heapq\n",
    "import itertools\n",
    "import math\n",
    "import numpy as np\n",
    "import re"
   ]
  },
  {
   "cell_type": "markdown",
   "metadata": {},
   "source": [
    "### Day 1: Chronal Calibration"
   ]
  },
  {
   "cell_type": "code",
   "execution_count": 43,
   "metadata": {},
   "outputs": [],
   "source": [
    "def resulting_frequency(changes):\n",
    "    \"\"\"\n",
    "    >>> resulting_frequency([+1, -2, +3, +1])\n",
    "    3\n",
    "    >>> resulting_frequency([+1, +1, +1])\n",
    "    3\n",
    "    >>> resulting_frequency([-1, -1, 2])\n",
    "    0\n",
    "    >>> resulting_frequency([-1, -2, -3])\n",
    "    -6\n",
    "    \"\"\"\n",
    "    return sum(changes)\n",
    "\n",
    "def accumulate(stream):\n",
    "    \"\"\"\n",
    "    Yields accumulated sums of elements of the input stream as an output stream. \n",
    "    The nth element of the stream is the sum of the first n elements of the input\n",
    "    stream.\n",
    "    \n",
    "    >>> list(accumulate([0, 0, 0]))\n",
    "    [0, 0, 0]\n",
    "    >>> list(accumulate([1, 2, 3]))\n",
    "    [1, 3, 6]\n",
    "    >>> list(accumulate([-1, -2, 3]))\n",
    "    [-1, -3, 0]\n",
    "    \"\"\"\n",
    "    sum = 0\n",
    "    for c in stream:\n",
    "        sum += c\n",
    "        yield sum\n",
    "\n",
    "def repeated_frequency(changes):\n",
    "    \"\"\"\n",
    "    >>> repeated_frequency([+1, -1])\n",
    "    0\n",
    "    >>> repeated_frequency([+3, +3, +4, -2, -4])\n",
    "    10\n",
    "    >>> repeated_frequency([-6, +3, +8, +5, -6])\n",
    "    5\n",
    "    >>> repeated_frequency([+7, +7, -2, -7, -4])\n",
    "    14\n",
    "    \"\"\"\n",
    "    seen = {0}\n",
    "    for freq in accumulate(itertools.cycle(changes)):\n",
    "        if freq in seen:\n",
    "            return freq\n",
    "        seen.add(freq)"
   ]
  },
  {
   "cell_type": "code",
   "execution_count": 44,
   "metadata": {},
   "outputs": [
    {
     "data": {
      "text/plain": [
       "TestResults(failed=0, attempted=11)"
      ]
     },
     "execution_count": 44,
     "metadata": {},
     "output_type": "execute_result"
    }
   ],
   "source": [
    "# Run unit tests\n",
    "doctest.testmod()"
   ]
  },
  {
   "cell_type": "code",
   "execution_count": 45,
   "metadata": {},
   "outputs": [
    {
     "name": "stdout",
     "output_type": "stream",
     "text": [
      "Part 1:  470\n",
      "Part 2:  790\n"
     ]
    }
   ],
   "source": [
    "# Final answers\n",
    "with open('day1_input.txt') as f:\n",
    "    changes = [int(l.strip()) for l in f]\n",
    "    print('Part 1: ', resulting_frequency(changes))\n",
    "    print('Part 2: ', repeated_frequency(changes))"
   ]
  },
  {
   "cell_type": "markdown",
   "metadata": {},
   "source": [
    "### Day 2: Inventory Management System"
   ]
  },
  {
   "cell_type": "code",
   "execution_count": 36,
   "metadata": {},
   "outputs": [],
   "source": [
    "def check_counts(box_id):\n",
    "    \"\"\"\n",
    "    >>> check_counts('abcdef')\n",
    "    (0, 0)\n",
    "    >>> check_counts('bababc')\n",
    "    (1, 1)\n",
    "    >>> check_counts('aabcdd')\n",
    "    (1, 0)\n",
    "    \"\"\"\n",
    "    checks = Counter(Counter(box_id).values())\n",
    "    return (1 if 2 in checks else 0, \n",
    "            1 if 3 in checks else 0)\n",
    "\n",
    "def checksum_box_ids(box_ids):\n",
    "    \"\"\"\n",
    "    >>> checksum_box_ids(['abcdef', 'bababc', 'abbcde', 'abcccd', 'aabcdd', 'abcdee', 'ababab'])\n",
    "    12\n",
    "    \"\"\"\n",
    "    twos, threes = np.sum([check_counts(id) for id in box_ids], axis=0)\n",
    "    return twos * threes\n",
    "\n",
    "def intersection(s, t):\n",
    "    \"\"\"\n",
    "    >>> intersection('abcde', 'fghij')\n",
    "    ''\n",
    "    >>> intersection('fguij', 'fghij')\n",
    "    'fgij'\n",
    "    >>> intersection('abcde', 'abcde')\n",
    "    'abcde'\n",
    "    \"\"\"\n",
    "    return ''.join(s[i] for i in range(len(s)) if s[i] == t[i])\n",
    "\n",
    "def correct_box_ids(box_ids):\n",
    "    \"\"\"\n",
    "    >>> correct_box_ids(['abcde', 'fghij', 'klmno', 'pqrst', 'fguij', 'axcye', 'wvxyz'])\n",
    "    'fgij'\n",
    "    \"\"\"\n",
    "    box_ids = sorted(set(box_ids))\n",
    "    for (i, j) in itertools.product(box_ids, box_ids):\n",
    "        if i == j: continue\n",
    "        solution = intersection(i, j)\n",
    "        if len(solution) == len(i) - 1:\n",
    "            return solution"
   ]
  },
  {
   "cell_type": "code",
   "execution_count": 37,
   "metadata": {},
   "outputs": [
    {
     "data": {
      "text/plain": [
       "TestResults(failed=0, attempted=8)"
      ]
     },
     "execution_count": 37,
     "metadata": {},
     "output_type": "execute_result"
    }
   ],
   "source": [
    "# Run unit tests\n",
    "doctest.testmod()"
   ]
  },
  {
   "cell_type": "code",
   "execution_count": 40,
   "metadata": {},
   "outputs": [
    {
     "name": "stdout",
     "output_type": "stream",
     "text": [
      "Part 1:  6422\n",
      "Part 2:  qcslyvphgkrmdawljuefotxbh\n"
     ]
    }
   ],
   "source": [
    "# Final answers\n",
    "with open('day2_input.txt') as f:\n",
    "    box_ids = [l.strip() for l in f]\n",
    "    print('Part 1: ', checksum_box_ids(box_ids))\n",
    "    print('Part 2: ', correct_box_ids(box_ids))"
   ]
  }
 ],
 "metadata": {
  "kernelspec": {
   "display_name": "Python 3",
   "language": "python",
   "name": "python3"
  },
  "language_info": {
   "codemirror_mode": {
    "name": "ipython",
    "version": 3
   },
   "file_extension": ".py",
   "mimetype": "text/x-python",
   "name": "python",
   "nbconvert_exporter": "python",
   "pygments_lexer": "ipython3",
   "version": "3.6.7"
  }
 },
 "nbformat": 4,
 "nbformat_minor": 2
}
